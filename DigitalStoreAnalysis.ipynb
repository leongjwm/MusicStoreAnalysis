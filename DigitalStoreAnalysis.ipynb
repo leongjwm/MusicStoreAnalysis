{
 "cells": [
  {
   "cell_type": "markdown",
   "metadata": {},
   "source": [
    "# Making Business Decisions to Maximise Sales of a Digital Media Store\n",
    "\n",
    "We will be using a database from a digital media store similar to the iTunes Library. It contains several tables which stores information of customers, invoices, artists, albums, and tracks from its store.\n",
    "\n",
    "The original unmodified file can be found on [GitHub](https://github.com/lerocha/chinook-database#:~:text=Chinook%20Database,single%20and%20multiple%20database%20servers.).\n",
    "\n",
    "The aim of this project is to examine how we can make appropriate business decisions to potentially maximise our sales by analysing our data using SQL. We will be using [SQLite](https://en.wikipedia.org/wiki/SQLite), a relational database management system (RMDBS)."
   ]
  },
  {
   "cell_type": "markdown",
   "metadata": {},
   "source": [
    "## Guide\n",
    "\n",
    "- [Connecting to Database](#connect_db)\n",
    "- [Data Exploration](#data_exp)\n",
    "- [Conclusion](#conclusion)"
   ]
  },
  {
   "cell_type": "markdown",
   "metadata": {},
   "source": [
    "<a id='connect_db'></a>\n",
    "\n",
    "### Connecting to Database\n",
    "\n",
    "Let's begin by connecting our Jupyter Notebook to the database file."
   ]
  },
  {
   "cell_type": "code",
   "execution_count": 1,
   "metadata": {},
   "outputs": [],
   "source": [
    "%%capture\n",
    "%load_ext sql\n",
    "%sql sqlite:///chinook.db"
   ]
  },
  {
   "cell_type": "markdown",
   "metadata": {},
   "source": [
    "#### Obtaining a List of all Tables & Views in the Database"
   ]
  },
  {
   "cell_type": "code",
   "execution_count": 2,
   "metadata": {},
   "outputs": [
    {
     "name": "stdout",
     "output_type": "stream",
     "text": [
      " * sqlite:///chinook.db\n",
      "Done.\n"
     ]
    },
    {
     "data": {
      "text/html": [
       "<table>\n",
       "    <tr>\n",
       "        <th>name</th>\n",
       "        <th>type</th>\n",
       "    </tr>\n",
       "    <tr>\n",
       "        <td>album</td>\n",
       "        <td>table</td>\n",
       "    </tr>\n",
       "    <tr>\n",
       "        <td>artist</td>\n",
       "        <td>table</td>\n",
       "    </tr>\n",
       "    <tr>\n",
       "        <td>customer</td>\n",
       "        <td>table</td>\n",
       "    </tr>\n",
       "    <tr>\n",
       "        <td>employee</td>\n",
       "        <td>table</td>\n",
       "    </tr>\n",
       "    <tr>\n",
       "        <td>genre</td>\n",
       "        <td>table</td>\n",
       "    </tr>\n",
       "    <tr>\n",
       "        <td>invoice</td>\n",
       "        <td>table</td>\n",
       "    </tr>\n",
       "    <tr>\n",
       "        <td>invoice_line</td>\n",
       "        <td>table</td>\n",
       "    </tr>\n",
       "    <tr>\n",
       "        <td>media_type</td>\n",
       "        <td>table</td>\n",
       "    </tr>\n",
       "    <tr>\n",
       "        <td>playlist</td>\n",
       "        <td>table</td>\n",
       "    </tr>\n",
       "    <tr>\n",
       "        <td>playlist_track</td>\n",
       "        <td>table</td>\n",
       "    </tr>\n",
       "    <tr>\n",
       "        <td>track</td>\n",
       "        <td>table</td>\n",
       "    </tr>\n",
       "</table>"
      ],
      "text/plain": [
       "[('album', 'table'),\n",
       " ('artist', 'table'),\n",
       " ('customer', 'table'),\n",
       " ('employee', 'table'),\n",
       " ('genre', 'table'),\n",
       " ('invoice', 'table'),\n",
       " ('invoice_line', 'table'),\n",
       " ('media_type', 'table'),\n",
       " ('playlist', 'table'),\n",
       " ('playlist_track', 'table'),\n",
       " ('track', 'table')]"
      ]
     },
     "execution_count": 2,
     "metadata": {},
     "output_type": "execute_result"
    }
   ],
   "source": [
    "%%sql\n",
    "SELECT\n",
    "    name,\n",
    "    type\n",
    "FROM sqlite_master\n",
    "WHERE type IN (\"table\",\"view\");"
   ]
  },
  {
   "cell_type": "markdown",
   "metadata": {},
   "source": [
    "To illustrate how these tables are related to one another, I have attached a picture below:\n",
    "\n",
    "<img src=\"chinook-schema.svg\">"
   ]
  },
  {
   "cell_type": "markdown",
   "metadata": {},
   "source": [
    "From this table, we can analyse our data in several fun ways: \n",
    "\n",
    "1. Assess the performance of each employee by looking at the revenue each of them generated\n",
    "2. Finding out which artists or genres appeal to customers the most (looking at sales performance)\n",
    "3. Assess the sales performance from each country"
   ]
  },
  {
   "cell_type": "markdown",
   "metadata": {},
   "source": [
    "<a id='data_exp'></a>\n",
    "\n",
    "### Data Exploration"
   ]
  },
  {
   "cell_type": "markdown",
   "metadata": {},
   "source": [
    "#### Evaluating Sales Performance of Each Employee\n",
    "\n",
    "To understand how to boost our sales performance, we need to examine how each employee is performing. However, we would need to first identify the employees who are in charge of sales: "
   ]
  },
  {
   "cell_type": "code",
   "execution_count": 3,
   "metadata": {},
   "outputs": [
    {
     "name": "stdout",
     "output_type": "stream",
     "text": [
      " * sqlite:///chinook.db\n",
      "Done.\n"
     ]
    },
    {
     "data": {
      "text/html": [
       "<table>\n",
       "    <tr>\n",
       "        <th>title</th>\n",
       "    </tr>\n",
       "    <tr>\n",
       "        <td>General Manager</td>\n",
       "    </tr>\n",
       "    <tr>\n",
       "        <td>Sales Manager</td>\n",
       "    </tr>\n",
       "    <tr>\n",
       "        <td>Sales Support Agent</td>\n",
       "    </tr>\n",
       "    <tr>\n",
       "        <td>IT Manager</td>\n",
       "    </tr>\n",
       "    <tr>\n",
       "        <td>IT Staff</td>\n",
       "    </tr>\n",
       "</table>"
      ],
      "text/plain": [
       "[('General Manager',),\n",
       " ('Sales Manager',),\n",
       " ('Sales Support Agent',),\n",
       " ('IT Manager',),\n",
       " ('IT Staff',)]"
      ]
     },
     "execution_count": 3,
     "metadata": {},
     "output_type": "execute_result"
    }
   ],
   "source": [
    "%%sql\n",
    "\n",
    "SELECT DISTINCT title\n",
    "FROM employee;"
   ]
  },
  {
   "cell_type": "markdown",
   "metadata": {},
   "source": [
    "The Sales Support Agents are the ones who should be in charge. Now let's have a look at each of their sales performance:"
   ]
  },
  {
   "cell_type": "code",
   "execution_count": 7,
   "metadata": {},
   "outputs": [
    {
     "name": "stdout",
     "output_type": "stream",
     "text": [
      " * sqlite:///chinook.db\n",
      "Done.\n"
     ]
    },
    {
     "data": {
      "text/html": [
       "<table>\n",
       "    <tr>\n",
       "        <th>employee_name</th>\n",
       "        <th>age</th>\n",
       "        <th>hire_date</th>\n",
       "        <th>total</th>\n",
       "    </tr>\n",
       "    <tr>\n",
       "        <td>Jane Peacock</td>\n",
       "        <td>44</td>\n",
       "        <td>2017-04-01 00:00:00</td>\n",
       "        <td>1731.51</td>\n",
       "    </tr>\n",
       "    <tr>\n",
       "        <td>Margaret Park</td>\n",
       "        <td>70</td>\n",
       "        <td>2017-05-03 00:00:00</td>\n",
       "        <td>1584.0</td>\n",
       "    </tr>\n",
       "    <tr>\n",
       "        <td>Steve Johnson</td>\n",
       "        <td>52</td>\n",
       "        <td>2017-10-17 00:00:00</td>\n",
       "        <td>1393.92</td>\n",
       "    </tr>\n",
       "</table>"
      ],
      "text/plain": [
       "[('Jane Peacock', 44, '2017-04-01 00:00:00', 1731.51),\n",
       " ('Margaret Park', 70, '2017-05-03 00:00:00', 1584.0),\n",
       " ('Steve Johnson', 52, '2017-10-17 00:00:00', 1393.92)]"
      ]
     },
     "execution_count": 7,
     "metadata": {},
     "output_type": "execute_result"
    }
   ],
   "source": [
    "%%sql\n",
    "\n",
    "WITH all_sales AS\n",
    "        (\n",
    "         SELECT e.first_name || \" \" || e.last_name employee_name,\n",
    "                e.employee_id,\n",
    "                e.hire_date,\n",
    "                e.hire_date - e.birthdate age,\n",
    "                e.title,\n",
    "                i.total\n",
    "         FROM invoice i\n",
    "         LEFT JOIN customer c ON i.customer_id = c.customer_id\n",
    "         LEFT JOIN employee e ON c.support_rep_id = e.employee_id\n",
    "        )\n",
    "    \n",
    "SELECT\n",
    "    al.employee_name,\n",
    "    al.age,\n",
    "    al.hire_date,\n",
    "    ROUND(SUM(al.total), 2) total\n",
    "FROM all_sales al\n",
    "GROUP BY employee_id\n",
    "ORDER BY total DESC;"
   ]
  },
  {
   "cell_type": "markdown",
   "metadata": {},
   "source": [
    "Although it is true that Steve did not generate as much revenue as Jane or Margaret, we have to bear in mind that Steve was hired a few months later after them (based on the hire date). Jane and Margaret earned about the same revenue. "
   ]
  },
  {
   "cell_type": "markdown",
   "metadata": {},
   "source": [
    "#### Finding the Artists Whose Songs Generate The Most Sales"
   ]
  },
  {
   "cell_type": "markdown",
   "metadata": {},
   "source": [
    "Knowing the top selling artists would help the company better in understanding the popular artists (and possibly the genres) in demand."
   ]
  },
  {
   "cell_type": "code",
   "execution_count": 6,
   "metadata": {},
   "outputs": [
    {
     "name": "stdout",
     "output_type": "stream",
     "text": [
      " * sqlite:///chinook.db\n",
      "Done.\n"
     ]
    },
    {
     "data": {
      "text/html": [
       "<table>\n",
       "    <tr>\n",
       "        <th>name</th>\n",
       "        <th>total_revenue</th>\n",
       "    </tr>\n",
       "    <tr>\n",
       "        <td>Jimi Hendrix</td>\n",
       "        <td>2623.5</td>\n",
       "    </tr>\n",
       "    <tr>\n",
       "        <td>Queen</td>\n",
       "        <td>2269.08</td>\n",
       "    </tr>\n",
       "    <tr>\n",
       "        <td>Red Hot Chili Peppers</td>\n",
       "        <td>1484.01</td>\n",
       "    </tr>\n",
       "    <tr>\n",
       "        <td>Pearl Jam</td>\n",
       "        <td>1387.98</td>\n",
       "    </tr>\n",
       "    <tr>\n",
       "        <td>Nirvana</td>\n",
       "        <td>1366.2</td>\n",
       "    </tr>\n",
       "    <tr>\n",
       "        <td>Guns N&#x27; Roses</td>\n",
       "        <td>1261.26</td>\n",
       "    </tr>\n",
       "    <tr>\n",
       "        <td>The Rolling Stones</td>\n",
       "        <td>1107.81</td>\n",
       "    </tr>\n",
       "    <tr>\n",
       "        <td>Eric Clapton</td>\n",
       "        <td>1090.98</td>\n",
       "    </tr>\n",
       "    <tr>\n",
       "        <td>Foo Fighters</td>\n",
       "        <td>1040.49</td>\n",
       "    </tr>\n",
       "    <tr>\n",
       "        <td>AC/DC</td>\n",
       "        <td>1029.6</td>\n",
       "    </tr>\n",
       "    <tr>\n",
       "        <td>Green Day</td>\n",
       "        <td>967.23</td>\n",
       "    </tr>\n",
       "    <tr>\n",
       "        <td>JET</td>\n",
       "        <td>964.26</td>\n",
       "    </tr>\n",
       "    <tr>\n",
       "        <td>Godsmack</td>\n",
       "        <td>963.27</td>\n",
       "    </tr>\n",
       "    <tr>\n",
       "        <td>Van Halen</td>\n",
       "        <td>958.32</td>\n",
       "    </tr>\n",
       "    <tr>\n",
       "        <td>Frank Sinatra</td>\n",
       "        <td>951.39</td>\n",
       "    </tr>\n",
       "</table>"
      ],
      "text/plain": [
       "[('Jimi Hendrix', 2623.5),\n",
       " ('Queen', 2269.08),\n",
       " ('Red Hot Chili Peppers', 1484.01),\n",
       " ('Pearl Jam', 1387.98),\n",
       " ('Nirvana', 1366.2),\n",
       " (\"Guns N' Roses\", 1261.26),\n",
       " ('The Rolling Stones', 1107.81),\n",
       " ('Eric Clapton', 1090.98),\n",
       " ('Foo Fighters', 1040.49),\n",
       " ('AC/DC', 1029.6),\n",
       " ('Green Day', 967.23),\n",
       " ('JET', 964.26),\n",
       " ('Godsmack', 963.27),\n",
       " ('Van Halen', 958.32),\n",
       " ('Frank Sinatra', 951.39)]"
      ]
     },
     "execution_count": 6,
     "metadata": {},
     "output_type": "execute_result"
    }
   ],
   "source": [
    "%%sql\n",
    "\n",
    "WITH artist_sales AS\n",
    "        (\n",
    "         SELECT \n",
    "                ar.name,\n",
    "                i.total\n",
    "         FROM invoice i\n",
    "         LEFT JOIN invoice_line il ON i.invoice_id = il.invoice_id\n",
    "         LEFT JOIN track t ON il.track_id = t.track_id\n",
    "         LEFT JOIN album al ON t.album_id = al.album_id\n",
    "         LEFT JOIN artist ar ON al.artist_id = ar.artist_id\n",
    "        )\n",
    "    \n",
    "SELECT ar.name,\n",
    "       ROUND(SUM(ar.total), 2) total_revenue\n",
    "FROM artist_sales ar\n",
    "GROUP BY name\n",
    "ORDER BY total_revenue DESC\n",
    "LIMIT 15;"
   ]
  },
  {
   "cell_type": "markdown",
   "metadata": {},
   "source": [
    "Quite a number of these bands produce music of the Rock genre, so the Rock genre should be one of the more popular genres. To check whether our theory is correct, we can analyse the total number of songs sold according to genre:"
   ]
  },
  {
   "cell_type": "code",
   "execution_count": 13,
   "metadata": {},
   "outputs": [
    {
     "name": "stdout",
     "output_type": "stream",
     "text": [
      " * sqlite:///chinook.db\n",
      "Done.\n"
     ]
    },
    {
     "data": {
      "text/html": [
       "<table>\n",
       "    <tr>\n",
       "        <th>name</th>\n",
       "        <th>proportion</th>\n",
       "    </tr>\n",
       "    <tr>\n",
       "        <td>Rock</td>\n",
       "        <td>55.39</td>\n",
       "    </tr>\n",
       "    <tr>\n",
       "        <td>Metal</td>\n",
       "        <td>13.01</td>\n",
       "    </tr>\n",
       "    <tr>\n",
       "        <td>Alternative &amp; Punk</td>\n",
       "        <td>10.34</td>\n",
       "    </tr>\n",
       "    <tr>\n",
       "        <td>Latin</td>\n",
       "        <td>3.51</td>\n",
       "    </tr>\n",
       "    <tr>\n",
       "        <td>R&amp;B/Soul</td>\n",
       "        <td>3.34</td>\n",
       "    </tr>\n",
       "    <tr>\n",
       "        <td>Blues</td>\n",
       "        <td>2.61</td>\n",
       "    </tr>\n",
       "    <tr>\n",
       "        <td>Jazz</td>\n",
       "        <td>2.54</td>\n",
       "    </tr>\n",
       "    <tr>\n",
       "        <td>Alternative</td>\n",
       "        <td>2.46</td>\n",
       "    </tr>\n",
       "    <tr>\n",
       "        <td>Easy Listening</td>\n",
       "        <td>1.56</td>\n",
       "    </tr>\n",
       "    <tr>\n",
       "        <td>Pop</td>\n",
       "        <td>1.32</td>\n",
       "    </tr>\n",
       "    <tr>\n",
       "        <td>Electronica/Dance</td>\n",
       "        <td>1.16</td>\n",
       "    </tr>\n",
       "    <tr>\n",
       "        <td>Classical</td>\n",
       "        <td>0.99</td>\n",
       "    </tr>\n",
       "    <tr>\n",
       "        <td>Reggae</td>\n",
       "        <td>0.74</td>\n",
       "    </tr>\n",
       "    <tr>\n",
       "        <td>Hip Hop/Rap</td>\n",
       "        <td>0.69</td>\n",
       "    </tr>\n",
       "    <tr>\n",
       "        <td>Heavy Metal</td>\n",
       "        <td>0.17</td>\n",
       "    </tr>\n",
       "    <tr>\n",
       "        <td>Soundtrack</td>\n",
       "        <td>0.11</td>\n",
       "    </tr>\n",
       "    <tr>\n",
       "        <td>TV Shows</td>\n",
       "        <td>0.04</td>\n",
       "    </tr>\n",
       "    <tr>\n",
       "        <td>Drama</td>\n",
       "        <td>0.02</td>\n",
       "    </tr>\n",
       "</table>"
      ],
      "text/plain": [
       "[('Rock', 55.39),\n",
       " ('Metal', 13.01),\n",
       " ('Alternative & Punk', 10.34),\n",
       " ('Latin', 3.51),\n",
       " ('R&B/Soul', 3.34),\n",
       " ('Blues', 2.61),\n",
       " ('Jazz', 2.54),\n",
       " ('Alternative', 2.46),\n",
       " ('Easy Listening', 1.56),\n",
       " ('Pop', 1.32),\n",
       " ('Electronica/Dance', 1.16),\n",
       " ('Classical', 0.99),\n",
       " ('Reggae', 0.74),\n",
       " ('Hip Hop/Rap', 0.69),\n",
       " ('Heavy Metal', 0.17),\n",
       " ('Soundtrack', 0.11),\n",
       " ('TV Shows', 0.04),\n",
       " ('Drama', 0.02)]"
      ]
     },
     "execution_count": 13,
     "metadata": {},
     "output_type": "execute_result"
    }
   ],
   "source": [
    "%%sql\n",
    "\n",
    "WITH total_tracks_sold AS\n",
    "    (SELECT\n",
    "         SUM(quantity) total_tracks\n",
    "     FROM invoice_line\n",
    "    ),\n",
    "     tracks_by_genre AS\n",
    "    (SELECT\n",
    "         il.quantity,\n",
    "         g.name\n",
    "     FROM invoice_line il\n",
    "     LEFT JOIN track t ON il.track_id = t.track_id\n",
    "     LEFT JOIN genre g ON t.genre_id = g.genre_id\n",
    "    )\n",
    "    \n",
    "SELECT\n",
    "    tg.name,\n",
    "    ROUND(CAST(SUM(quantity) AS Float)*100/(SELECT * FROM total_tracks_sold), 2) proportion\n",
    "FROM tracks_by_genre tg\n",
    "GROUP BY name\n",
    "ORDER BY proportion DESC;"
   ]
  },
  {
   "cell_type": "markdown",
   "metadata": {},
   "source": [
    "As expected, Rock is the most popular genre, followed by Metal and Alternative & Punk. The company should continue to cater to these demographics comprising of the majority of sales made (by number of tracks sold) by introducing more music of these genres by other bands into their library."
   ]
  },
  {
   "cell_type": "markdown",
   "metadata": {},
   "source": [
    "#### Assessing the Sales Performance of Each Country"
   ]
  },
  {
   "cell_type": "markdown",
   "metadata": {},
   "source": [
    "We find the following attributes of each country:\n",
    "\n",
    "* the total number of customers\n",
    "* the total revenue made by sales\n",
    "* the average revenue made per customer\n",
    "* the average revenue made per invoice"
   ]
  },
  {
   "cell_type": "code",
   "execution_count": 15,
   "metadata": {},
   "outputs": [
    {
     "name": "stdout",
     "output_type": "stream",
     "text": [
      " * sqlite:///chinook.db\n",
      "Done.\n"
     ]
    },
    {
     "data": {
      "text/html": [
       "<table>\n",
       "    <tr>\n",
       "        <th>country</th>\n",
       "        <th>num_customers</th>\n",
       "        <th>total_revenue</th>\n",
       "        <th>avg_per_customer</th>\n",
       "        <th>avg_per_invoice</th>\n",
       "    </tr>\n",
       "    <tr>\n",
       "        <td>USA</td>\n",
       "        <td>13</td>\n",
       "        <td>1040.49</td>\n",
       "        <td>80.04</td>\n",
       "        <td>7.94</td>\n",
       "    </tr>\n",
       "    <tr>\n",
       "        <td>Canada</td>\n",
       "        <td>8</td>\n",
       "        <td>535.59</td>\n",
       "        <td>66.95</td>\n",
       "        <td>7.05</td>\n",
       "    </tr>\n",
       "    <tr>\n",
       "        <td>Brazil</td>\n",
       "        <td>5</td>\n",
       "        <td>427.68</td>\n",
       "        <td>85.54</td>\n",
       "        <td>7.01</td>\n",
       "    </tr>\n",
       "    <tr>\n",
       "        <td>France</td>\n",
       "        <td>5</td>\n",
       "        <td>389.07</td>\n",
       "        <td>77.81</td>\n",
       "        <td>7.78</td>\n",
       "    </tr>\n",
       "    <tr>\n",
       "        <td>Germany</td>\n",
       "        <td>4</td>\n",
       "        <td>334.62</td>\n",
       "        <td>83.66</td>\n",
       "        <td>8.16</td>\n",
       "    </tr>\n",
       "    <tr>\n",
       "        <td>Czech Republic</td>\n",
       "        <td>2</td>\n",
       "        <td>273.24</td>\n",
       "        <td>136.62</td>\n",
       "        <td>9.11</td>\n",
       "    </tr>\n",
       "    <tr>\n",
       "        <td>United Kingdom</td>\n",
       "        <td>3</td>\n",
       "        <td>245.52</td>\n",
       "        <td>81.84</td>\n",
       "        <td>8.77</td>\n",
       "    </tr>\n",
       "    <tr>\n",
       "        <td>Portugal</td>\n",
       "        <td>2</td>\n",
       "        <td>185.13</td>\n",
       "        <td>92.57</td>\n",
       "        <td>6.38</td>\n",
       "    </tr>\n",
       "    <tr>\n",
       "        <td>India</td>\n",
       "        <td>2</td>\n",
       "        <td>183.15</td>\n",
       "        <td>91.58</td>\n",
       "        <td>8.72</td>\n",
       "    </tr>\n",
       "    <tr>\n",
       "        <td>Ireland</td>\n",
       "        <td>1</td>\n",
       "        <td>114.84</td>\n",
       "        <td>114.84</td>\n",
       "        <td>8.83</td>\n",
       "    </tr>\n",
       "    <tr>\n",
       "        <td>Spain</td>\n",
       "        <td>1</td>\n",
       "        <td>98.01</td>\n",
       "        <td>98.01</td>\n",
       "        <td>8.91</td>\n",
       "    </tr>\n",
       "    <tr>\n",
       "        <td>Chile</td>\n",
       "        <td>1</td>\n",
       "        <td>97.02</td>\n",
       "        <td>97.02</td>\n",
       "        <td>7.46</td>\n",
       "    </tr>\n",
       "    <tr>\n",
       "        <td>Australia</td>\n",
       "        <td>1</td>\n",
       "        <td>81.18</td>\n",
       "        <td>81.18</td>\n",
       "        <td>8.12</td>\n",
       "    </tr>\n",
       "    <tr>\n",
       "        <td>Finland</td>\n",
       "        <td>1</td>\n",
       "        <td>79.2</td>\n",
       "        <td>79.2</td>\n",
       "        <td>7.2</td>\n",
       "    </tr>\n",
       "    <tr>\n",
       "        <td>Hungary</td>\n",
       "        <td>1</td>\n",
       "        <td>78.21</td>\n",
       "        <td>78.21</td>\n",
       "        <td>7.82</td>\n",
       "    </tr>\n",
       "    <tr>\n",
       "        <td>Poland</td>\n",
       "        <td>1</td>\n",
       "        <td>76.23</td>\n",
       "        <td>76.23</td>\n",
       "        <td>7.62</td>\n",
       "    </tr>\n",
       "    <tr>\n",
       "        <td>Sweden</td>\n",
       "        <td>1</td>\n",
       "        <td>75.24</td>\n",
       "        <td>75.24</td>\n",
       "        <td>7.52</td>\n",
       "    </tr>\n",
       "    <tr>\n",
       "        <td>Norway</td>\n",
       "        <td>1</td>\n",
       "        <td>72.27</td>\n",
       "        <td>72.27</td>\n",
       "        <td>8.03</td>\n",
       "    </tr>\n",
       "    <tr>\n",
       "        <td>Austria</td>\n",
       "        <td>1</td>\n",
       "        <td>69.3</td>\n",
       "        <td>69.3</td>\n",
       "        <td>7.7</td>\n",
       "    </tr>\n",
       "    <tr>\n",
       "        <td>Netherlands</td>\n",
       "        <td>1</td>\n",
       "        <td>65.34</td>\n",
       "        <td>65.34</td>\n",
       "        <td>6.53</td>\n",
       "    </tr>\n",
       "    <tr>\n",
       "        <td>Belgium</td>\n",
       "        <td>1</td>\n",
       "        <td>60.39</td>\n",
       "        <td>60.39</td>\n",
       "        <td>8.63</td>\n",
       "    </tr>\n",
       "    <tr>\n",
       "        <td>Italy</td>\n",
       "        <td>1</td>\n",
       "        <td>50.49</td>\n",
       "        <td>50.49</td>\n",
       "        <td>5.61</td>\n",
       "    </tr>\n",
       "    <tr>\n",
       "        <td>Argentina</td>\n",
       "        <td>1</td>\n",
       "        <td>39.6</td>\n",
       "        <td>39.6</td>\n",
       "        <td>7.92</td>\n",
       "    </tr>\n",
       "    <tr>\n",
       "        <td>Denmark</td>\n",
       "        <td>1</td>\n",
       "        <td>37.62</td>\n",
       "        <td>37.62</td>\n",
       "        <td>3.76</td>\n",
       "    </tr>\n",
       "</table>"
      ],
      "text/plain": [
       "[('USA', 13, 1040.49, 80.04, 7.94),\n",
       " ('Canada', 8, 535.59, 66.95, 7.05),\n",
       " ('Brazil', 5, 427.68, 85.54, 7.01),\n",
       " ('France', 5, 389.07, 77.81, 7.78),\n",
       " ('Germany', 4, 334.62, 83.66, 8.16),\n",
       " ('Czech Republic', 2, 273.24, 136.62, 9.11),\n",
       " ('United Kingdom', 3, 245.52, 81.84, 8.77),\n",
       " ('Portugal', 2, 185.13, 92.57, 6.38),\n",
       " ('India', 2, 183.15, 91.58, 8.72),\n",
       " ('Ireland', 1, 114.84, 114.84, 8.83),\n",
       " ('Spain', 1, 98.01, 98.01, 8.91),\n",
       " ('Chile', 1, 97.02, 97.02, 7.46),\n",
       " ('Australia', 1, 81.18, 81.18, 8.12),\n",
       " ('Finland', 1, 79.2, 79.2, 7.2),\n",
       " ('Hungary', 1, 78.21, 78.21, 7.82),\n",
       " ('Poland', 1, 76.23, 76.23, 7.62),\n",
       " ('Sweden', 1, 75.24, 75.24, 7.52),\n",
       " ('Norway', 1, 72.27, 72.27, 8.03),\n",
       " ('Austria', 1, 69.3, 69.3, 7.7),\n",
       " ('Netherlands', 1, 65.34, 65.34, 6.53),\n",
       " ('Belgium', 1, 60.39, 60.39, 8.63),\n",
       " ('Italy', 1, 50.49, 50.49, 5.61),\n",
       " ('Argentina', 1, 39.6, 39.6, 7.92),\n",
       " ('Denmark', 1, 37.62, 37.62, 3.76)]"
      ]
     },
     "execution_count": 15,
     "metadata": {},
     "output_type": "execute_result"
    }
   ],
   "source": [
    "%%sql\n",
    "\n",
    "WITH invoices_w_country AS\n",
    "    (SELECT\n",
    "         i.invoice_id,\n",
    "         i.total,\n",
    "         c.country,\n",
    "         c.customer_id\n",
    "     FROM invoice i\n",
    "     LEFT JOIN customer c ON i.customer_id = c.customer_id\n",
    "    )\n",
    "    \n",
    "SELECT\n",
    "    ic.country,\n",
    "    COUNT(DISTINCT(ic.customer_id)) num_customers,\n",
    "    ROUND(SUM(ic.total),2) total_revenue,\n",
    "    ROUND(SUM(ic.total) / COUNT(DISTINCT(ic.customer_id)),2) avg_per_customer,\n",
    "    ROUND(SUM(ic.total) / COUNT(DISTINCT(ic.invoice_id)),2) avg_per_invoice\n",
    "FROM invoices_w_country ic\n",
    "GROUP BY country\n",
    "ORDER BY total_revenue DESC;"
   ]
  },
  {
   "cell_type": "markdown",
   "metadata": {},
   "source": [
    "If the average amount spent per customer in certain countries are high (such as Czech Republic and Ireland), the company should consider more aggressive advertising / marketing towards these countries. \n",
    "\n",
    "However, we have to be cautious about the size of the merged tables, which is extremely small given the lack of data. We note that Czech Republic and Ireland has only 2 and 1 customers respectively. Therefore, we should not make any hasty generalisations about the customers from each country. "
   ]
  },
  {
   "cell_type": "markdown",
   "metadata": {},
   "source": [
    "<a id='conclusion'></a>\n",
    "\n",
    "### Conclusion\n",
    "\n",
    "Given the lack of data, it would be difficult to make certain business decisions. However, the insights that we have managed to uncover from such a small dataset would be for the company to continue selling music with popular genres such as Rock and Metal, as well as the company to consider being more aggressive in their marketing to attract more customers, in particular those who seem to spend a lot on average."
   ]
  }
 ],
 "metadata": {
  "kernelspec": {
   "display_name": "Python 3",
   "language": "python",
   "name": "python3"
  },
  "language_info": {
   "codemirror_mode": {
    "name": "ipython",
    "version": 3
   },
   "file_extension": ".py",
   "mimetype": "text/x-python",
   "name": "python",
   "nbconvert_exporter": "python",
   "pygments_lexer": "ipython3",
   "version": "3.7.6"
  }
 },
 "nbformat": 4,
 "nbformat_minor": 4
}
