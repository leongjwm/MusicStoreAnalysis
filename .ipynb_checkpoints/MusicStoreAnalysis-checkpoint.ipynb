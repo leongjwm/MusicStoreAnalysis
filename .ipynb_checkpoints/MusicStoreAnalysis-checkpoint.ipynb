{
 "cells": [
  {
   "cell_type": "markdown",
   "metadata": {},
   "source": [
    "# Making Business Decisions to Maximise Sales of a Digital Media Store\n",
    "\n",
    "We will be using the Chinook Database, which contains data from an imaginary digital media store Chinook. The database is a modified version of a sample database from the iTunes Library. The Chinook Database contains several tables which stores information of customers, invoices, artists, albums, and tracks from its store.\n",
    "\n",
    "The original unmodified file can be found on [GitHub](https://github.com/lerocha/chinook-database#:~:text=Chinook%20Database,single%20and%20multiple%20database%20servers.), where I cite how they created the database as shown below:\n",
    "\n",
    "> Media related data was created using real data from an iTunes Library. It is possible for you to use your own iTunes Library to generate the SQL scripts, see instructions below. Customer and employee information was manually created using fictitious names, addresses that can be located on Google maps, and other well formatted data (phone, fax, email, etc.). Sales information is auto generated using random data for a four year period.\n",
    "\n",
    "The goal of this project is to examine how we can make appropriate business decisions to potentially maximise our sales (in terms of songs) in Chinook.\n",
    "\n",
    "Let's begin by connecting our Jupyter Notebook to the database file.\n",
    "\n",
    "### Connecting to Database"
   ]
  },
  {
   "cell_type": "code",
   "execution_count": 1,
   "metadata": {},
   "outputs": [],
   "source": [
    "%%capture\n",
    "%load_ext sql\n",
    "%sql sqlite:///chinook.db"
   ]
  },
  {
   "cell_type": "markdown",
   "metadata": {},
   "source": [
    "#### Obtaining a List of all Tables and Views in the Database\n",
    "\n",
    "A view is similar to a table, and can be created from a table or other views. They are based off tables and don't actually contain data, but are rather utilising the data from the main table they are created from. If that particular table changes, the view would change as well."
   ]
  },
  {
   "cell_type": "code",
   "execution_count": 2,
   "metadata": {},
   "outputs": [
    {
     "name": "stdout",
     "output_type": "stream",
     "text": [
      " * sqlite:///chinook.db\n",
      "Done.\n"
     ]
    },
    {
     "data": {
      "text/html": [
       "<table>\n",
       "    <tr>\n",
       "        <th>name</th>\n",
       "        <th>type</th>\n",
       "    </tr>\n",
       "    <tr>\n",
       "        <td>album</td>\n",
       "        <td>table</td>\n",
       "    </tr>\n",
       "    <tr>\n",
       "        <td>artist</td>\n",
       "        <td>table</td>\n",
       "    </tr>\n",
       "    <tr>\n",
       "        <td>customer</td>\n",
       "        <td>table</td>\n",
       "    </tr>\n",
       "    <tr>\n",
       "        <td>employee</td>\n",
       "        <td>table</td>\n",
       "    </tr>\n",
       "    <tr>\n",
       "        <td>genre</td>\n",
       "        <td>table</td>\n",
       "    </tr>\n",
       "    <tr>\n",
       "        <td>invoice</td>\n",
       "        <td>table</td>\n",
       "    </tr>\n",
       "    <tr>\n",
       "        <td>invoice_line</td>\n",
       "        <td>table</td>\n",
       "    </tr>\n",
       "    <tr>\n",
       "        <td>media_type</td>\n",
       "        <td>table</td>\n",
       "    </tr>\n",
       "    <tr>\n",
       "        <td>playlist</td>\n",
       "        <td>table</td>\n",
       "    </tr>\n",
       "    <tr>\n",
       "        <td>playlist_track</td>\n",
       "        <td>table</td>\n",
       "    </tr>\n",
       "    <tr>\n",
       "        <td>track</td>\n",
       "        <td>table</td>\n",
       "    </tr>\n",
       "</table>"
      ],
      "text/plain": [
       "[('album', 'table'),\n",
       " ('artist', 'table'),\n",
       " ('customer', 'table'),\n",
       " ('employee', 'table'),\n",
       " ('genre', 'table'),\n",
       " ('invoice', 'table'),\n",
       " ('invoice_line', 'table'),\n",
       " ('media_type', 'table'),\n",
       " ('playlist', 'table'),\n",
       " ('playlist_track', 'table'),\n",
       " ('track', 'table')]"
      ]
     },
     "execution_count": 2,
     "metadata": {},
     "output_type": "execute_result"
    }
   ],
   "source": [
    "%%sql\n",
    "SELECT\n",
    "    name,\n",
    "    type\n",
    "FROM sqlite_master\n",
    "WHERE type IN (\"table\",\"view\");"
   ]
  },
  {
   "cell_type": "markdown",
   "metadata": {},
   "source": [
    "I have attached a picture below to show how the tables are related to one another:\n",
    "\n",
    "<img src=\"chinook-schema.svg\">"
   ]
  },
  {
   "cell_type": "code",
   "execution_count": 3,
   "metadata": {},
   "outputs": [
    {
     "name": "stdout",
     "output_type": "stream",
     "text": [
      " * sqlite:///chinook.db\n",
      "Done.\n"
     ]
    },
    {
     "data": {
      "text/html": [
       "<table>\n",
       "    <tr>\n",
       "        <th>country</th>\n",
       "    </tr>\n",
       "    <tr>\n",
       "        <td>Brazil</td>\n",
       "    </tr>\n",
       "    <tr>\n",
       "        <td>Germany</td>\n",
       "    </tr>\n",
       "    <tr>\n",
       "        <td>Canada</td>\n",
       "    </tr>\n",
       "    <tr>\n",
       "        <td>Norway</td>\n",
       "    </tr>\n",
       "    <tr>\n",
       "        <td>Czech Republic</td>\n",
       "    </tr>\n",
       "    <tr>\n",
       "        <td>Austria</td>\n",
       "    </tr>\n",
       "    <tr>\n",
       "        <td>Belgium</td>\n",
       "    </tr>\n",
       "    <tr>\n",
       "        <td>Denmark</td>\n",
       "    </tr>\n",
       "    <tr>\n",
       "        <td>USA</td>\n",
       "    </tr>\n",
       "    <tr>\n",
       "        <td>Portugal</td>\n",
       "    </tr>\n",
       "    <tr>\n",
       "        <td>France</td>\n",
       "    </tr>\n",
       "    <tr>\n",
       "        <td>Finland</td>\n",
       "    </tr>\n",
       "    <tr>\n",
       "        <td>Hungary</td>\n",
       "    </tr>\n",
       "    <tr>\n",
       "        <td>Ireland</td>\n",
       "    </tr>\n",
       "    <tr>\n",
       "        <td>Italy</td>\n",
       "    </tr>\n",
       "    <tr>\n",
       "        <td>Netherlands</td>\n",
       "    </tr>\n",
       "    <tr>\n",
       "        <td>Poland</td>\n",
       "    </tr>\n",
       "    <tr>\n",
       "        <td>Spain</td>\n",
       "    </tr>\n",
       "    <tr>\n",
       "        <td>Sweden</td>\n",
       "    </tr>\n",
       "    <tr>\n",
       "        <td>United Kingdom</td>\n",
       "    </tr>\n",
       "    <tr>\n",
       "        <td>Australia</td>\n",
       "    </tr>\n",
       "    <tr>\n",
       "        <td>Argentina</td>\n",
       "    </tr>\n",
       "    <tr>\n",
       "        <td>Chile</td>\n",
       "    </tr>\n",
       "    <tr>\n",
       "        <td>India</td>\n",
       "    </tr>\n",
       "</table>"
      ],
      "text/plain": [
       "[('Brazil',),\n",
       " ('Germany',),\n",
       " ('Canada',),\n",
       " ('Norway',),\n",
       " ('Czech Republic',),\n",
       " ('Austria',),\n",
       " ('Belgium',),\n",
       " ('Denmark',),\n",
       " ('USA',),\n",
       " ('Portugal',),\n",
       " ('France',),\n",
       " ('Finland',),\n",
       " ('Hungary',),\n",
       " ('Ireland',),\n",
       " ('Italy',),\n",
       " ('Netherlands',),\n",
       " ('Poland',),\n",
       " ('Spain',),\n",
       " ('Sweden',),\n",
       " ('United Kingdom',),\n",
       " ('Australia',),\n",
       " ('Argentina',),\n",
       " ('Chile',),\n",
       " ('India',)]"
      ]
     },
     "execution_count": 3,
     "metadata": {},
     "output_type": "execute_result"
    }
   ],
   "source": [
    "%%sql\n",
    "SELECT DISTINCT country\n",
    "FROM customer;"
   ]
  },
  {
   "cell_type": "markdown",
   "metadata": {},
   "source": [
    "### Data Exploration\n",
    "\n",
    "#### Finding the Top Selling Genres\n",
    "\n",
    "A great starting point would be great to see which genres (of songs) sell the most in the USA. We shall do this by calculating the number of tracks of each genre sold in the USA, along with the percentage each genre comprises."
   ]
  },
  {
   "cell_type": "code",
   "execution_count": 4,
   "metadata": {},
   "outputs": [
    {
     "name": "stdout",
     "output_type": "stream",
     "text": [
      " * sqlite:///chinook.db\n",
      "Done.\n"
     ]
    },
    {
     "data": {
      "text/html": [
       "<table>\n",
       "    <tr>\n",
       "        <th>track_id</th>\n",
       "        <th>name</th>\n",
       "        <th>album_id</th>\n",
       "        <th>media_type_id</th>\n",
       "        <th>genre_id</th>\n",
       "        <th>composer</th>\n",
       "        <th>milliseconds</th>\n",
       "        <th>bytes</th>\n",
       "        <th>unit_price</th>\n",
       "        <th>genre_name</th>\n",
       "    </tr>\n",
       "    <tr>\n",
       "        <td>1</td>\n",
       "        <td>For Those About To Rock (We Salute You)</td>\n",
       "        <td>1</td>\n",
       "        <td>1</td>\n",
       "        <td>1</td>\n",
       "        <td>Angus Young, Malcolm Young, Brian Johnson</td>\n",
       "        <td>343719</td>\n",
       "        <td>11170334</td>\n",
       "        <td>0.99</td>\n",
       "        <td>Rock</td>\n",
       "    </tr>\n",
       "    <tr>\n",
       "        <td>2</td>\n",
       "        <td>Balls to the Wall</td>\n",
       "        <td>2</td>\n",
       "        <td>2</td>\n",
       "        <td>1</td>\n",
       "        <td>None</td>\n",
       "        <td>342562</td>\n",
       "        <td>5510424</td>\n",
       "        <td>0.99</td>\n",
       "        <td>Rock</td>\n",
       "    </tr>\n",
       "    <tr>\n",
       "        <td>3</td>\n",
       "        <td>Fast As a Shark</td>\n",
       "        <td>3</td>\n",
       "        <td>2</td>\n",
       "        <td>1</td>\n",
       "        <td>F. Baltes, S. Kaufman, U. Dirkscneider &amp; W. Hoffman</td>\n",
       "        <td>230619</td>\n",
       "        <td>3990994</td>\n",
       "        <td>0.99</td>\n",
       "        <td>Rock</td>\n",
       "    </tr>\n",
       "    <tr>\n",
       "        <td>4</td>\n",
       "        <td>Restless and Wild</td>\n",
       "        <td>3</td>\n",
       "        <td>2</td>\n",
       "        <td>1</td>\n",
       "        <td>F. Baltes, R.A. Smith-Diesel, S. Kaufman, U. Dirkscneider &amp; W. Hoffman</td>\n",
       "        <td>252051</td>\n",
       "        <td>4331779</td>\n",
       "        <td>0.99</td>\n",
       "        <td>Rock</td>\n",
       "    </tr>\n",
       "    <tr>\n",
       "        <td>5</td>\n",
       "        <td>Princess of the Dawn</td>\n",
       "        <td>3</td>\n",
       "        <td>2</td>\n",
       "        <td>1</td>\n",
       "        <td>Deaffy &amp; R.A. Smith-Diesel</td>\n",
       "        <td>375418</td>\n",
       "        <td>6290521</td>\n",
       "        <td>0.99</td>\n",
       "        <td>Rock</td>\n",
       "    </tr>\n",
       "</table>"
      ],
      "text/plain": [
       "[(1, 'For Those About To Rock (We Salute You)', 1, 1, 1, 'Angus Young, Malcolm Young, Brian Johnson', 343719, 11170334, 0.99, 'Rock'),\n",
       " (2, 'Balls to the Wall', 2, 2, 1, None, 342562, 5510424, 0.99, 'Rock'),\n",
       " (3, 'Fast As a Shark', 3, 2, 1, 'F. Baltes, S. Kaufman, U. Dirkscneider & W. Hoffman', 230619, 3990994, 0.99, 'Rock'),\n",
       " (4, 'Restless and Wild', 3, 2, 1, 'F. Baltes, R.A. Smith-Diesel, S. Kaufman, U. Dirkscneider & W. Hoffman', 252051, 4331779, 0.99, 'Rock'),\n",
       " (5, 'Princess of the Dawn', 3, 2, 1, 'Deaffy & R.A. Smith-Diesel', 375418, 6290521, 0.99, 'Rock')]"
      ]
     },
     "execution_count": 4,
     "metadata": {},
     "output_type": "execute_result"
    }
   ],
   "source": [
    "%%sql\n",
    "\n",
    "WITH track_w_genre AS\n",
    "     (SELECT t.*,\n",
    "             g.name genre_name\n",
    "      FROM track t\n",
    "      INNER JOIN genre g ON t.genre_id = g.genre_id\n",
    "     )\n",
    "    \n",
    "SELECT * FROM track_w_genre\n",
    "LIMIT 5;"
   ]
  },
  {
   "cell_type": "code",
   "execution_count": 5,
   "metadata": {},
   "outputs": [
    {
     "name": "stdout",
     "output_type": "stream",
     "text": [
      " * sqlite:///chinook.db\n",
      "(sqlite3.OperationalError) no such table: track_w_genre\n",
      "[SQL: WITH total_songs_sold AS (SELECT\n",
      "        SUM(il.quantity) total_sold\n",
      "     FROM track_w_genre twg\n",
      "     INNER JOIN invoice_line il ON il.track_id = twg.track_id\n",
      "    )\n",
      "\n",
      "SELECT \n",
      "    twg.genre_name genre_name,\n",
      "    SUM(il.quantity) tracks_sold,\n",
      "    ROUND(CAST(SUM(il.quantity) AS Float)*100/(SELECT * FROM total_songs_sold), 2) percentage_sold\n",
      "FROM invoice_line il\n",
      "INNER JOIN track_w_genre twg ON twg.track_id = il.track_id\n",
      "GROUP BY twg.genre_name\n",
      "ORDER BY tracks_sold DESC;]\n",
      "(Background on this error at: http://sqlalche.me/e/e3q8)\n"
     ]
    }
   ],
   "source": [
    "%%sql\n",
    "\n",
    "WITH total_songs_sold AS\n",
    "    (SELECT\n",
    "        SUM(il.quantity) total_sold\n",
    "     FROM track_w_genre twg\n",
    "     INNER JOIN invoice_line il ON il.track_id = twg.track_id\n",
    "    )\n",
    "\n",
    "SELECT \n",
    "    twg.genre_name genre_name,\n",
    "    SUM(il.quantity) tracks_sold,\n",
    "    ROUND(CAST(SUM(il.quantity) AS Float)*100/(SELECT * FROM total_songs_sold), 2) percentage_sold\n",
    "FROM invoice_line il\n",
    "INNER JOIN track_w_genre twg ON twg.track_id = il.track_id\n",
    "GROUP BY twg.genre_name\n",
    "ORDER BY tracks_sold DESC;"
   ]
  },
  {
   "cell_type": "markdown",
   "metadata": {},
   "source": [
    "We see that `Rock` is the top genre in the iTunes USA Library, followed by `Metal` and `Alternative & Punk`. Let's have a look at the top selling songs in the USA to confirm that it isn't just one or two songs skewing towards a particular genre, in terms of the number sold."
   ]
  },
  {
   "cell_type": "code",
   "execution_count": 6,
   "metadata": {},
   "outputs": [
    {
     "name": "stdout",
     "output_type": "stream",
     "text": [
      " * sqlite:///chinook.db\n",
      "(sqlite3.OperationalError) no such table: track_w_genre\n",
      "[SQL: SELECT twg.name track_name, twg.genre_name genre_name,\n",
      "    SUM(il.quantity) tracks_sold\n",
      "FROM invoice_line il\n",
      "INNER JOIN track_w_genre twg ON twg.track_id = il.track_id\n",
      "GROUP BY twg.track_id\n",
      "ORDER BY tracks_sold DESC\n",
      "LIMIT 30;]\n",
      "(Background on this error at: http://sqlalche.me/e/e3q8)\n"
     ]
    }
   ],
   "source": [
    "%%sql\n",
    "\n",
    "SELECT \n",
    "    twg.name track_name,\n",
    "    twg.genre_name genre_name,\n",
    "    SUM(il.quantity) tracks_sold\n",
    "FROM invoice_line il\n",
    "INNER JOIN track_w_genre twg ON twg.track_id = il.track_id\n",
    "GROUP BY twg.track_id\n",
    "ORDER BY tracks_sold DESC\n",
    "LIMIT 30;"
   ]
  },
  {
   "cell_type": "markdown",
   "metadata": {},
   "source": [
    "This suggests that we are on the right track, and that we should be looking towards releasing albums where artists specialise in top selling genres, such as `Rock`, `Metal` and `Alternative & Punk`.\n",
    "\n",
    "#### Examining Employee Sales Performance\n",
    "\n",
    "In Chinook, each customer is assigned to a sales support agent within the company when they first make a purchase. In order to ascertain the performance of each sales support agent, we would like to look at how much money each of them made for the company."
   ]
  },
  {
   "cell_type": "code",
   "execution_count": 7,
   "metadata": {},
   "outputs": [
    {
     "name": "stdout",
     "output_type": "stream",
     "text": [
      " * sqlite:///chinook.db\n",
      "Done.\n"
     ]
    },
    {
     "data": {
      "text/html": [
       "<table>\n",
       "    <tr>\n",
       "        <th>employee_name</th>\n",
       "        <th>direct_superior</th>\n",
       "        <th>age</th>\n",
       "        <th>hire_date</th>\n",
       "        <th>country</th>\n",
       "        <th>total_revenue</th>\n",
       "    </tr>\n",
       "    <tr>\n",
       "        <td>Jane Peacock</td>\n",
       "        <td>Nancy Edwards</td>\n",
       "        <td>44</td>\n",
       "        <td>2017-04-01 00:00:00</td>\n",
       "        <td>Canada</td>\n",
       "        <td>1731.51</td>\n",
       "    </tr>\n",
       "    <tr>\n",
       "        <td>Margaret Park</td>\n",
       "        <td>Nancy Edwards</td>\n",
       "        <td>70</td>\n",
       "        <td>2017-05-03 00:00:00</td>\n",
       "        <td>Canada</td>\n",
       "        <td>1584.0</td>\n",
       "    </tr>\n",
       "    <tr>\n",
       "        <td>Steve Johnson</td>\n",
       "        <td>Nancy Edwards</td>\n",
       "        <td>52</td>\n",
       "        <td>2017-10-17 00:00:00</td>\n",
       "        <td>Canada</td>\n",
       "        <td>1393.92</td>\n",
       "    </tr>\n",
       "</table>"
      ],
      "text/plain": [
       "[('Jane Peacock', 'Nancy Edwards', 44, '2017-04-01 00:00:00', 'Canada', 1731.51),\n",
       " ('Margaret Park', 'Nancy Edwards', 70, '2017-05-03 00:00:00', 'Canada', 1584.0),\n",
       " ('Steve Johnson', 'Nancy Edwards', 52, '2017-10-17 00:00:00', 'Canada', 1393.92)]"
      ]
     },
     "execution_count": 7,
     "metadata": {},
     "output_type": "execute_result"
    }
   ],
   "source": [
    "%%sql\n",
    "\n",
    "WITH em_cust_inv AS\n",
    "    (\n",
    "     SELECT e1.*, e2.first_name || \" \" || e2.last_name direct_superior, c.*, i.*\n",
    "     FROM employee e1\n",
    "     LEFT JOIN employee e2 ON e1.reports_to = e2.employee_id\n",
    "     LEFT JOIN customer c ON c.support_rep_id = e1.employee_id\n",
    "     INNER JOIN invoice i ON c.customer_id = i.customer_id\n",
    "    )\n",
    "    \n",
    "SELECT e.first_name || \" \" || e.last_name employee_name,\n",
    "       e.direct_superior,\n",
    "       e.hire_date - e.birthdate age,\n",
    "       e.hire_date,\n",
    "       e.country,\n",
    "       ROUND(SUM(e.total), 2) total_revenue\n",
    "FROM em_cust_inv e\n",
    "WHERE e.title = \"Sales Support Agent\"\n",
    "GROUP BY employee_id\n",
    "ORDER BY total_revenue DESC;"
   ]
  },
  {
   "cell_type": "markdown",
   "metadata": {},
   "source": [
    "Although it is observed that Steve makes slightly lesser than Margaret and Jane, the latter were hired months earlier than Steve. Therefore, the total revenue alone does not necessarily make a good indicator of the Sales Support Agents' performance.\n",
    "\n",
    "#### Analysing Sales in Different Countries\n",
    "\n",
    "We would like to observe Chinook's sales performance in each country. Therefore, we need to gather information about each country's:\n",
    "\n",
    "* total number of customers\n",
    "* total value made by sales\n",
    "* average value of sales per customer\n",
    "* average value of each invoice order"
   ]
  },
  {
   "cell_type": "code",
   "execution_count": 8,
   "metadata": {},
   "outputs": [
    {
     "name": "stdout",
     "output_type": "stream",
     "text": [
      " * sqlite:///chinook.db\n",
      "Done.\n"
     ]
    },
    {
     "data": {
      "text/html": [
       "<table>\n",
       "    <tr>\n",
       "        <th>country</th>\n",
       "        <th>num_customers</th>\n",
       "        <th>total_value</th>\n",
       "        <th>avg_per_cust</th>\n",
       "        <th>avg_per_inv</th>\n",
       "    </tr>\n",
       "    <tr>\n",
       "        <td>USA</td>\n",
       "        <td>13</td>\n",
       "        <td>1040.49</td>\n",
       "        <td>80.04</td>\n",
       "        <td>7.94</td>\n",
       "    </tr>\n",
       "    <tr>\n",
       "        <td>Canada</td>\n",
       "        <td>8</td>\n",
       "        <td>535.59</td>\n",
       "        <td>66.95</td>\n",
       "        <td>7.05</td>\n",
       "    </tr>\n",
       "    <tr>\n",
       "        <td>Brazil</td>\n",
       "        <td>5</td>\n",
       "        <td>427.68</td>\n",
       "        <td>85.54</td>\n",
       "        <td>7.01</td>\n",
       "    </tr>\n",
       "    <tr>\n",
       "        <td>France</td>\n",
       "        <td>5</td>\n",
       "        <td>389.07</td>\n",
       "        <td>77.81</td>\n",
       "        <td>7.78</td>\n",
       "    </tr>\n",
       "    <tr>\n",
       "        <td>Germany</td>\n",
       "        <td>4</td>\n",
       "        <td>334.62</td>\n",
       "        <td>83.66</td>\n",
       "        <td>8.16</td>\n",
       "    </tr>\n",
       "    <tr>\n",
       "        <td>Czech Republic</td>\n",
       "        <td>2</td>\n",
       "        <td>273.24</td>\n",
       "        <td>136.62</td>\n",
       "        <td>9.11</td>\n",
       "    </tr>\n",
       "    <tr>\n",
       "        <td>United Kingdom</td>\n",
       "        <td>3</td>\n",
       "        <td>245.52</td>\n",
       "        <td>81.84</td>\n",
       "        <td>8.77</td>\n",
       "    </tr>\n",
       "    <tr>\n",
       "        <td>Portugal</td>\n",
       "        <td>2</td>\n",
       "        <td>185.13</td>\n",
       "        <td>92.57</td>\n",
       "        <td>6.38</td>\n",
       "    </tr>\n",
       "    <tr>\n",
       "        <td>India</td>\n",
       "        <td>2</td>\n",
       "        <td>183.15</td>\n",
       "        <td>91.58</td>\n",
       "        <td>8.72</td>\n",
       "    </tr>\n",
       "    <tr>\n",
       "        <td>Other</td>\n",
       "        <td>15</td>\n",
       "        <td>1094.94</td>\n",
       "        <td>73.0</td>\n",
       "        <td>7.45</td>\n",
       "    </tr>\n",
       "</table>"
      ],
      "text/plain": [
       "[('USA', 13, 1040.49, 80.04, 7.94),\n",
       " ('Canada', 8, 535.59, 66.95, 7.05),\n",
       " ('Brazil', 5, 427.68, 85.54, 7.01),\n",
       " ('France', 5, 389.07, 77.81, 7.78),\n",
       " ('Germany', 4, 334.62, 83.66, 8.16),\n",
       " ('Czech Republic', 2, 273.24, 136.62, 9.11),\n",
       " ('United Kingdom', 3, 245.52, 81.84, 8.77),\n",
       " ('Portugal', 2, 185.13, 92.57, 6.38),\n",
       " ('India', 2, 183.15, 91.58, 8.72),\n",
       " ('Other', 15, 1094.94, 73.0, 7.45)]"
      ]
     },
     "execution_count": 8,
     "metadata": {},
     "output_type": "execute_result"
    }
   ],
   "source": [
    "%%sql\n",
    "\n",
    "WITH country_or_other AS\n",
    "        (SELECT\n",
    "             CASE\n",
    "                 WHEN\n",
    "                     (SELECT COUNT(*)\n",
    "                     FROM customer\n",
    "                     WHERE country = c.country) = 1 THEN \"Other\"\n",
    "                 ELSE c.country\n",
    "             END AS country,\n",
    "             c.customer_id,\n",
    "             il.*\n",
    "         FROM invoice_line il\n",
    "         INNER JOIN invoice i ON il.invoice_id = i.invoice_id\n",
    "         INNER JOIN customer c ON i.customer_id = c.customer_id\n",
    "        ),\n",
    "    country_each_val AS\n",
    "        (SELECT country,\n",
    "                COUNT(DISTINCT customer_id) num_customers,\n",
    "                ROUND(SUM(unit_price), 2) total_value,\n",
    "                ROUND(SUM(unit_price)/COUNT(DISTINCT customer_id), 2) avg_per_cust,\n",
    "                ROUND(SUM(unit_price)/COUNT(DISTINCT invoice_id), 2) avg_per_inv,\n",
    "                CASE\n",
    "                    WHEN country = \"Other\" THEN 1\n",
    "                    ELSE 0\n",
    "                END AS country_sort\n",
    "         FROM country_or_other\n",
    "         GROUP BY country\n",
    "         ORDER BY country_sort ASC, total_value DESC\n",
    "        )\n",
    "        \n",
    "SELECT country,\n",
    "       num_customers,\n",
    "       total_value,\n",
    "       avg_per_cust,\n",
    "       avg_per_inv\n",
    "FROM country_each_val;\n"
   ]
  },
  {
   "cell_type": "markdown",
   "metadata": {},
   "source": [
    "Besides the USA, other countries which show promise to invest marketing efforts in are Czech Republic, Portugal and India, since they have a high average spending per customer. However, we need to be careful because the sample size is low in this case; there are not even 5 customers from each country that is represented here. "
   ]
  }
 ],
 "metadata": {
  "kernelspec": {
   "display_name": "Python 3",
   "language": "python",
   "name": "python3"
  },
  "language_info": {
   "codemirror_mode": {
    "name": "ipython",
    "version": 3
   },
   "file_extension": ".py",
   "mimetype": "text/x-python",
   "name": "python",
   "nbconvert_exporter": "python",
   "pygments_lexer": "ipython3",
   "version": "3.7.6"
  }
 },
 "nbformat": 4,
 "nbformat_minor": 4
}
